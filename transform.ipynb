{
 "cells": [
  {
   "cell_type": "code",
   "execution_count": null,
   "id": "geological-orbit",
   "metadata": {},
   "outputs": [],
   "source": [
    "import pandas as pd"
   ]
  },
  {
   "cell_type": "code",
   "execution_count": null,
   "id": "indirect-draft",
   "metadata": {},
   "outputs": [],
   "source": [
    "#pd.set_option('display.max_columns', None)  # or 1000\n",
    "#pd.set_option('display.max_colwidth', None)  # or 199\n",
    "#pd.set_option('display.width', None)"
   ]
  },
  {
   "cell_type": "markdown",
   "id": "dirty-potential",
   "metadata": {},
   "source": [
    "## Use Pandas to read data from 'raw_input.csv'"
   ]
  },
  {
   "cell_type": "code",
   "execution_count": null,
   "id": "loaded-gilbert",
   "metadata": {},
   "outputs": [],
   "source": [
    "df = pd.read_csv('https://drive.google.com/uc?id=1AoAb3D3FoG0JS05Yok2LXg-Oq7LsjOyJ')"
   ]
  },
  {
   "cell_type": "code",
   "execution_count": null,
   "id": "separate-knitting",
   "metadata": {},
   "outputs": [],
   "source": [
    "df.head()"
   ]
  },
  {
   "cell_type": "markdown",
   "id": "revolutionary-experiment",
   "metadata": {},
   "source": [
    "## Validate data in Pandas dataframe"
   ]
  },
  {
   "cell_type": "code",
   "execution_count": null,
   "id": "tropical-alloy",
   "metadata": {},
   "outputs": [],
   "source": [
    "df.info()"
   ]
  },
  {
   "cell_type": "markdown",
   "id": "academic-proposal",
   "metadata": {},
   "source": [
    "### From above, convert data type for Column 'GR DOC' and 'amtDocDc' to *int64*"
   ]
  },
  {
   "cell_type": "code",
   "execution_count": null,
   "id": "comparative-block",
   "metadata": {},
   "outputs": [],
   "source": [
    "df[\"amtDocDc\"] = df['amtDocDc'].astype('int64')"
   ]
  },
  {
   "cell_type": "code",
   "execution_count": null,
   "id": "african-cleaner",
   "metadata": {},
   "outputs": [],
   "source": [
    "df[\"GR DOC\"] = df['GR DOC'].astype('Int64')"
   ]
  },
  {
   "cell_type": "code",
   "execution_count": null,
   "id": "careful-presentation",
   "metadata": {},
   "outputs": [],
   "source": [
    "df.info()"
   ]
  },
  {
   "cell_type": "code",
   "execution_count": null,
   "id": "isolated-ability",
   "metadata": {},
   "outputs": [],
   "source": [
    "df.head()"
   ]
  },
  {
   "cell_type": "markdown",
   "id": "funky-delta",
   "metadata": {},
   "source": [
    "### Find any row whereby at least one column is filled with 'NA' or NAN'"
   ]
  },
  {
   "cell_type": "code",
   "execution_count": null,
   "id": "extraordinary-houston",
   "metadata": {
    "scrolled": true
   },
   "outputs": [],
   "source": [
    "df[df.isnull().any(axis=1)]"
   ]
  },
  {
   "cell_type": "code",
   "execution_count": null,
   "id": "legislative-closure",
   "metadata": {},
   "outputs": [],
   "source": [
    "len(df[df.isnull().any(axis=1)])"
   ]
  },
  {
   "cell_type": "code",
   "execution_count": null,
   "id": "massive-sandwich",
   "metadata": {},
   "outputs": [],
   "source": [
    "df.iloc[144,2]"
   ]
  },
  {
   "cell_type": "code",
   "execution_count": null,
   "id": "architectural-seven",
   "metadata": {},
   "outputs": [],
   "source": [
    "pd.isnull(df.iloc[144,2])"
   ]
  },
  {
   "cell_type": "markdown",
   "id": "incomplete-consent",
   "metadata": {},
   "source": [
    "### Find whether the values within a column are duplicated (to identify a column with unique ID)"
   ]
  },
  {
   "cell_type": "code",
   "execution_count": null,
   "id": "proud-republic",
   "metadata": {},
   "outputs": [],
   "source": [
    "df['GR DOC'].duplicated().any()"
   ]
  },
  {
   "cell_type": "code",
   "execution_count": null,
   "id": "emotional-chaos",
   "metadata": {},
   "outputs": [],
   "source": [
    "df[df['GR DOC'].duplicated()]"
   ]
  },
  {
   "cell_type": "code",
   "execution_count": null,
   "id": "tamil-ambassador",
   "metadata": {},
   "outputs": [],
   "source": [
    "df['PO DOC'].duplicated().any()"
   ]
  },
  {
   "cell_type": "code",
   "execution_count": null,
   "id": "gorgeous-remove",
   "metadata": {},
   "outputs": [],
   "source": [
    "df['INVOICE DOCUMENT'].duplicated().sum()"
   ]
  },
  {
   "cell_type": "code",
   "execution_count": null,
   "id": "satisfactory-pipeline",
   "metadata": {},
   "outputs": [],
   "source": [
    "df['Clrng doc.'].duplicated().sum()"
   ]
  },
  {
   "cell_type": "code",
   "execution_count": null,
   "id": "automatic-decrease",
   "metadata": {},
   "outputs": [],
   "source": [
    "df['INVOICE DOCUMENT'].duplicated().sum()"
   ]
  },
  {
   "cell_type": "code",
   "execution_count": null,
   "id": "wound-handy",
   "metadata": {},
   "outputs": [],
   "source": [
    "df['PLANT'].duplicated().sum()"
   ]
  },
  {
   "cell_type": "code",
   "execution_count": null,
   "id": "victorian-membrane",
   "metadata": {},
   "outputs": [],
   "source": [
    "df['PLANT'].sort_values().unique()"
   ]
  },
  {
   "cell_type": "markdown",
   "id": "micro-saturday",
   "metadata": {},
   "source": [
    "## Use 'INVOICE DOCUMENT' column as unique ID and transform raw input to event log (required by Process Mining)"
   ]
  },
  {
   "cell_type": "code",
   "execution_count": null,
   "id": "specific-circus",
   "metadata": {},
   "outputs": [],
   "source": [
    "order={}\n",
    "order['GR']=1\n",
    "order['TTDS']=2\n",
    "order['BASELINE']=3\n",
    "order['INVOICE']=4\n",
    "order['CLEARING']=5\n",
    "order['GR']"
   ]
  },
  {
   "cell_type": "code",
   "execution_count": null,
   "id": "young-official",
   "metadata": {},
   "outputs": [],
   "source": [
    "data = []\n",
    "for index, row in df.iterrows():\n",
    "    if pd.isnull(row['GR DOC']):    \n",
    "        for date in ['TTDS DATE', 'INVOICE POSTING DATE', 'CLEARING DATE']:\n",
    "            activity = date.split()[0]\n",
    "            data.append([row['INVOICE DOCUMENT'], activity, row[date], row['PLANT'], row['PO DOC'], 'NA', row['Clrng doc.'], row['amtDocDc'], row['amtLocDc'], order[activity]])\n",
    "    else:\n",
    "        for date in ['GR DATE', 'TTDS DATE', 'INVOICE POSTING DATE', 'CLEARING DATE']:\n",
    "            activity = date.split()[0]\n",
    "            data.append([row['INVOICE DOCUMENT'], activity, row[date], row['PLANT'], row['PO DOC'], row['GR DOC'], row['Clrng doc.'], row['amtDocDc'], row['amtLocDc'], order[activity]]) "
   ]
  },
  {
   "cell_type": "code",
   "execution_count": null,
   "id": "federal-import",
   "metadata": {},
   "outputs": [],
   "source": [
    "#data"
   ]
  },
  {
   "cell_type": "code",
   "execution_count": null,
   "id": "southeast-protest",
   "metadata": {},
   "outputs": [],
   "source": [
    "len(data)"
   ]
  },
  {
   "cell_type": "code",
   "execution_count": null,
   "id": "threaded-england",
   "metadata": {},
   "outputs": [],
   "source": [
    "data[31776]"
   ]
  },
  {
   "cell_type": "code",
   "execution_count": null,
   "id": "signal-encoding",
   "metadata": {},
   "outputs": [],
   "source": [
    "df2 = pd.DataFrame(data, columns=['INVOICE DOCUMENT', 'ACTIVITY', 'DATETIME', 'PLANT', 'PO DOC', 'GR DOC', 'Clrng doc.', 'amtDocDc', 'amtLocDc', 'order'])"
   ]
  },
  {
   "cell_type": "code",
   "execution_count": null,
   "id": "australian-junior",
   "metadata": {
    "scrolled": false
   },
   "outputs": [],
   "source": [
    "df2.tail(10)"
   ]
  },
  {
   "cell_type": "code",
   "execution_count": null,
   "id": "higher-airport",
   "metadata": {},
   "outputs": [],
   "source": [
    "df2[df2['GR DOC']=='NA'].head(20)"
   ]
  },
  {
   "cell_type": "markdown",
   "id": "occupational-barcelona",
   "metadata": {},
   "source": [
    "### Convert dataframe to CSV file with the name 'transformed_input.csv'"
   ]
  },
  {
   "cell_type": "code",
   "execution_count": null,
   "id": "mature-tunnel",
   "metadata": {},
   "outputs": [],
   "source": [
    "#df2.to_csv('transformed_input.csv', index=False)"
   ]
  },
  {
   "cell_type": "markdown",
   "id": "congressional-clerk",
   "metadata": {},
   "source": [
    "### Download the resulted file to a local drive if we are using Google Colab"
   ]
  },
  {
   "cell_type": "code",
   "execution_count": null,
   "id": "moderate-homework",
   "metadata": {},
   "outputs": [],
   "source": [
    "# Only run these lines when using Colab\n",
    "# from google.colab import files\n",
    "# files.download('transformed_input.csv')"
   ]
  }
 ],
 "metadata": {
  "kernelspec": {
   "display_name": "Python386",
   "language": "python",
   "name": "python386"
  },
  "language_info": {
   "codemirror_mode": {
    "name": "ipython",
    "version": 3
   },
   "file_extension": ".py",
   "mimetype": "text/x-python",
   "name": "python",
   "nbconvert_exporter": "python",
   "pygments_lexer": "ipython3",
   "version": "3.8.6"
  }
 },
 "nbformat": 4,
 "nbformat_minor": 5
}
